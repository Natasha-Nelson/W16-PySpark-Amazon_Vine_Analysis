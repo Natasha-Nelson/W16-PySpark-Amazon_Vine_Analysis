{
  "nbformat": 4,
  "nbformat_minor": 0,
  "metadata": {
    "colab": {
      "name": "Vine_Review_Analysis.ipynb",
      "provenance": []
    },
    "kernelspec": {
      "name": "python3",
      "display_name": "Python 3"
    },
    "language_info": {
      "name": "python"
    }
  },
  "cells": [
    {
      "cell_type": "code",
      "metadata": {
        "colab": {
          "base_uri": "https://localhost:8080/"
        },
        "id": "-MJ_U-WIlW31",
        "outputId": "0fce0edf-921f-476a-8d22-dd32d9e36535"
      },
      "source": [
        "import os\n",
        "# Find the latest version of spark 3.0 from http://www.apache.org/dist/spark/ and enter as the spark version\n",
        "# For example:\n",
        "# spark_version = 'spark-3.0.3'\n",
        "spark_version = 'spark-3.0.3'\n",
        "os.environ['SPARK_VERSION']=spark_version\n",
        "\n",
        "# Install Spark and Java\n",
        "!apt-get update\n",
        "!apt-get install openjdk-11-jdk-headless -qq > /dev/null\n",
        "!wget -q http://www.apache.org/dist/spark/$SPARK_VERSION/$SPARK_VERSION-bin-hadoop2.7.tgz\n",
        "!tar xf $SPARK_VERSION-bin-hadoop2.7.tgz\n",
        "!pip install -q findspark\n",
        "\n",
        "# Set Environment Variables\n",
        "import os\n",
        "os.environ[\"JAVA_HOME\"] = \"/usr/lib/jvm/java-11-openjdk-amd64\"\n",
        "os.environ[\"SPARK_HOME\"] = f\"/content/{spark_version}-bin-hadoop2.7\"\n",
        "\n",
        "# Start a SparkSession\n",
        "import findspark\n",
        "findspark.init()"
      ],
      "execution_count": 4,
      "outputs": [
        {
          "output_type": "stream",
          "text": [
            "\r0% [Working]\r            \rGet:1 http://security.ubuntu.com/ubuntu bionic-security InRelease [88.7 kB]\n",
            "\r0% [Connecting to archive.ubuntu.com (91.189.88.142)] [1 InRelease 14.2 kB/88.7\r                                                                               \rGet:2 https://cloud.r-project.org/bin/linux/ubuntu bionic-cran40/ InRelease [3,626 B]\n",
            "Ign:3 https://developer.download.nvidia.com/compute/cuda/repos/ubuntu1804/x86_64  InRelease\n",
            "Get:4 http://ppa.launchpad.net/c2d4u.team/c2d4u4.0+/ubuntu bionic InRelease [15.9 kB]\n",
            "Hit:5 http://archive.ubuntu.com/ubuntu bionic InRelease\n",
            "Ign:6 https://developer.download.nvidia.com/compute/machine-learning/repos/ubuntu1804/x86_64  InRelease\n",
            "Get:7 https://developer.download.nvidia.com/compute/cuda/repos/ubuntu1804/x86_64  Release [697 B]\n",
            "Hit:8 https://developer.download.nvidia.com/compute/machine-learning/repos/ubuntu1804/x86_64  Release\n",
            "Get:9 https://developer.download.nvidia.com/compute/cuda/repos/ubuntu1804/x86_64  Release.gpg [836 B]\n",
            "Get:10 http://archive.ubuntu.com/ubuntu bionic-updates InRelease [88.7 kB]\n",
            "Hit:11 http://ppa.launchpad.net/cran/libgit2/ubuntu bionic InRelease\n",
            "Get:12 https://cloud.r-project.org/bin/linux/ubuntu bionic-cran40/ Packages [62.9 kB]\n",
            "Get:13 http://archive.ubuntu.com/ubuntu bionic-backports InRelease [74.6 kB]\n",
            "Get:14 http://ppa.launchpad.net/deadsnakes/ppa/ubuntu bionic InRelease [15.9 kB]\n",
            "Get:15 http://security.ubuntu.com/ubuntu bionic-security/main amd64 Packages [2,263 kB]\n",
            "Get:16 http://security.ubuntu.com/ubuntu bionic-security/universe amd64 Packages [1,420 kB]\n",
            "Get:17 http://security.ubuntu.com/ubuntu bionic-security/multiverse amd64 Packages [26.7 kB]\n",
            "Get:18 http://security.ubuntu.com/ubuntu bionic-security/restricted amd64 Packages [510 kB]\n",
            "Get:19 http://ppa.launchpad.net/graphics-drivers/ppa/ubuntu bionic InRelease [21.3 kB]\n",
            "Ign:21 https://developer.download.nvidia.com/compute/cuda/repos/ubuntu1804/x86_64  Packages\n",
            "Get:21 https://developer.download.nvidia.com/compute/cuda/repos/ubuntu1804/x86_64  Packages [695 kB]\n",
            "Get:22 http://ppa.launchpad.net/c2d4u.team/c2d4u4.0+/ubuntu bionic/main Sources [1,786 kB]\n",
            "Get:23 http://archive.ubuntu.com/ubuntu bionic-updates/multiverse amd64 Packages [39.4 kB]\n",
            "Get:24 http://archive.ubuntu.com/ubuntu bionic-updates/restricted amd64 Packages [544 kB]\n",
            "Get:25 http://archive.ubuntu.com/ubuntu bionic-updates/universe amd64 Packages [2,195 kB]\n",
            "Get:26 http://ppa.launchpad.net/c2d4u.team/c2d4u4.0+/ubuntu bionic/main amd64 Packages [914 kB]\n",
            "Get:27 http://archive.ubuntu.com/ubuntu bionic-updates/main amd64 Packages [2,698 kB]\n",
            "Get:28 http://ppa.launchpad.net/deadsnakes/ppa/ubuntu bionic/main amd64 Packages [40.9 kB]\n",
            "Get:29 http://ppa.launchpad.net/graphics-drivers/ppa/ubuntu bionic/main amd64 Packages [44.1 kB]\n",
            "Fetched 13.5 MB in 4s (3,292 kB/s)\n",
            "Reading package lists... Done\n"
          ],
          "name": "stdout"
        }
      ]
    },
    {
      "cell_type": "code",
      "metadata": {
        "id": "_xgfNoVqls2l"
      },
      "source": [
        "# Start Spark session\n",
        "from pyspark.sql import SparkSession\n",
        "spark = SparkSession.builder.appName(\"VineAnalysis\").getOrCreate()"
      ],
      "execution_count": 5,
      "outputs": []
    },
    {
      "cell_type": "code",
      "metadata": {
        "colab": {
          "base_uri": "https://localhost:8080/"
        },
        "id": "A56zY5Edl0Zm",
        "outputId": "ec6096b6-952b-403d-e1d3-b8a355a15be5"
      },
      "source": [
        "from pyspark import SparkFiles\n",
        "url = \"https://s3.amazonaws.com/amazon-reviews-pds/tsv/amazon_reviews_us_Tools_v1_00.tsv.gz\"\n",
        "spark.sparkContext.addFile(url)\n",
        "df = spark.read.option(\"encoding\", \"UTF-8\").csv(SparkFiles.get(\"\"), sep=\"\\t\", header=True, inferSchema=True)\n",
        "df.show(10)"
      ],
      "execution_count": 6,
      "outputs": [
        {
          "output_type": "stream",
          "text": [
            "+-----------+-----------+--------------+----------+--------------+--------------------+----------------+-----------+-------------+-----------+----+-----------------+--------------------+--------------------+-----------+\n",
            "|marketplace|customer_id|     review_id|product_id|product_parent|       product_title|product_category|star_rating|helpful_votes|total_votes|vine|verified_purchase|     review_headline|         review_body|review_date|\n",
            "+-----------+-----------+--------------+----------+--------------+--------------------+----------------+-----------+-------------+-----------+----+-----------------+--------------------+--------------------+-----------+\n",
            "|         US|   15785389|R2UM5QMHBHC90Q|B00H5U9ZD6|     115362950|WallPeg 12 sq ft ...|           Tools|          5|            0|          0|   N|                Y|Great organizer, ...|Very nice. Will o...| 2015-08-31|\n",
            "|         US|   47910848|  RF0D1LEIF6L7|B001TJGCS0|     570955425|Nite Ize Nite Daw...|           Tools|          4|            0|          0|   N|                Y|Like it, but the ...|Like it, but the ...| 2015-08-31|\n",
            "|         US|   36328996|  RM6YKIWQVNSY|B000NIK8JW|     128843593|Stanley 84-058 4 ...|           Tools|          1|            6|          6|   N|                Y|        poor quality|We were excited t...| 2015-08-31|\n",
            "|         US|   51785809|R1RL3L68ASPS36|B008ZYRGUA|     407828107|Powerextra 14.4V ...|           Tools|          4|            0|          0|   N|                Y|          Four Stars|Quick delivery. P...| 2015-08-31|\n",
            "|         US|   40757491|R1U4XFBFAG34CY|B00K5CA0GC|     490746675|Waterproof Invisi...|           Tools|          5|            0|          0|   N|                Y|          Five Stars|Quality waterproo...| 2015-08-31|\n",
            "|         US|   35544833|R3KFIK8P0I91PL|B00AIJAA94|     148352067|Crime Scene Do No...|           Tools|          5|            0|          0|   N|                Y|Excellent Decorat...|Ordered for my hu...| 2015-08-31|\n",
            "|         US|   16474909| RENOAY76PPK1O|B00JKEI6K8|     331801084|Aweek® 2 Pcs Bicy...|           Tools|          5|            0|          0|   N|                Y|          Five Stars|GREAT SELLER PROD...| 2015-08-31|\n",
            "|         US|   22601598| RINV884I0NL5V|B00AGCHVS6|     471514859|Ryobi P102 Genuin...|           Tools|          1|            0|          0|   N|                Y|Worked great for ...|My battery has di...| 2015-08-31|\n",
            "|         US|   16129808| R5KJH6CXZH2PX|B002S0O7U4|     162253576|Wiha 66995 6-Piec...|           Tools|          5|            0|          0|   N|                Y|       Great quality|Great product at ...| 2015-08-31|\n",
            "|         US|   24382335| RO69JF6QWD0W1|B0084YHXMW|      69530650|TOMTOP LED Submar...|           Tools|          5|            0|          0|   N|                Y|          Five Stars|           Excellent| 2015-08-31|\n",
            "+-----------+-----------+--------------+----------+--------------+--------------------+----------------+-----------+-------------+-----------+----+-----------------+--------------------+--------------------+-----------+\n",
            "only showing top 10 rows\n",
            "\n"
          ],
          "name": "stdout"
        }
      ]
    },
    {
      "cell_type": "code",
      "metadata": {
        "colab": {
          "base_uri": "https://localhost:8080/"
        },
        "id": "EYY9yY9qmXZ1",
        "outputId": "649b28c2-d63a-4a0a-d41a-43f9d8951e04"
      },
      "source": [
        "# Create the vine_table. DataFrame\n",
        "vine_df = df.select([\"review_id\",\"star_rating\",\"helpful_votes\",\"total_votes\",\"vine\",\"verified_purchase\"])\n",
        "vine_df.show(10)"
      ],
      "execution_count": 7,
      "outputs": [
        {
          "output_type": "stream",
          "text": [
            "+--------------+-----------+-------------+-----------+----+-----------------+\n",
            "|     review_id|star_rating|helpful_votes|total_votes|vine|verified_purchase|\n",
            "+--------------+-----------+-------------+-----------+----+-----------------+\n",
            "|R2UM5QMHBHC90Q|          5|            0|          0|   N|                Y|\n",
            "|  RF0D1LEIF6L7|          4|            0|          0|   N|                Y|\n",
            "|  RM6YKIWQVNSY|          1|            6|          6|   N|                Y|\n",
            "|R1RL3L68ASPS36|          4|            0|          0|   N|                Y|\n",
            "|R1U4XFBFAG34CY|          5|            0|          0|   N|                Y|\n",
            "|R3KFIK8P0I91PL|          5|            0|          0|   N|                Y|\n",
            "| RENOAY76PPK1O|          5|            0|          0|   N|                Y|\n",
            "| RINV884I0NL5V|          1|            0|          0|   N|                Y|\n",
            "| R5KJH6CXZH2PX|          5|            0|          0|   N|                Y|\n",
            "| RO69JF6QWD0W1|          5|            0|          0|   N|                Y|\n",
            "+--------------+-----------+-------------+-----------+----+-----------------+\n",
            "only showing top 10 rows\n",
            "\n"
          ],
          "name": "stdout"
        }
      ]
    },
    {
      "cell_type": "code",
      "metadata": {
        "colab": {
          "base_uri": "https://localhost:8080/"
        },
        "id": "_BHVzk3OnWn2",
        "outputId": "e9f26157-1997-476a-a143-704cdd9b0740"
      },
      "source": [
        "#Filter the data and create a new DataFrame or table to retrieve all the rows where the total_votes count is equal to or greater than 20\n",
        "filtered_df = df.filter(\"total_votes>20\")\n",
        "filtered_df.show()"
      ],
      "execution_count": 8,
      "outputs": [
        {
          "output_type": "stream",
          "text": [
            "+-----------+-----------+--------------+----------+--------------+--------------------+----------------+-----------+-------------+-----------+----+-----------------+--------------------+--------------------+-----------+\n",
            "|marketplace|customer_id|     review_id|product_id|product_parent|       product_title|product_category|star_rating|helpful_votes|total_votes|vine|verified_purchase|     review_headline|         review_body|review_date|\n",
            "+-----------+-----------+--------------+----------+--------------+--------------------+----------------+-----------+-------------+-----------+----+-----------------+--------------------+--------------------+-----------+\n",
            "|         US|   47749608| RXAHWIC1584UQ|B00NKSMPZW|     824618679|ClearArmor 141001...|           Tools|          5|           20|         23|   N|                Y|          Five Stars|geart product :) ...| 2015-08-31|\n",
            "|         US|   53082915| RSBELAIC899DO|B00LPFIPPQ|     848632692|WEN 6510 Oscillating|           Tools|          5|           46|         51|   N|                Y|Professional sand...|I don't have a lo...| 2015-08-31|\n",
            "|         US|   37584068|R2HCC4CJ59D225|B00QS9R9W4|     883778437|Skilled Crafter L...|           Tools|          4|           43|         43|   N|                Y|Happy with my pur...|Good hole puncher...| 2015-08-31|\n",
            "|         US|   11254201|R39BVCCVPRV6F5|B00NH3E95Y|     157093972|Rotorazer Multi-p...|           Tools|          5|           10|         22|   N|                Y|          Five Stars|           Fantastic| 2015-08-31|\n",
            "|         US|   36879864| RL9VF9WXHEHKR|B00F5VUS1U|     133481526|Big Horn 14350 Do...|           Tools|          5|           35|         36|   N|                Y|        Game changer|If you're looking...| 2015-08-31|\n",
            "|         US|   25655711|R1ZINLWUOLTZ46|B007NVSTCK|     543991951|DEWALT DCS380B 20...|           Tools|          1|           39|         45|   N|                N|     Dont buy dewalt|If I could, I'd g...| 2015-08-31|\n",
            "|         US|   27471798|R1CQKM1K1CHOHS|B000H12DQ6|     206229938|Bosch RA1181 Benc...|           Tools|          1|           21|         22|   N|                N|Who are these idi...|I downloaded the ...| 2015-08-31|\n",
            "|         US|   47386643|R1ZG19X1NOLCRF|B00Z804LAW|     803357065|Gino Development ...|           Tools|          5|            5|         21|   N|                Y|          Five Stars|          I like it.| 2015-08-31|\n",
            "|         US|   19888586|R1YOX5Z4GF3ZSW|B009O94W3E|     398511332|DEWALT DW088K Sel...|           Tools|          1|            1|         22|   N|                Y|            One Star|     Very dirty item| 2015-08-31|\n",
            "|         US|   16581575| R2DHAM7J1KMWN|B00XUF5D7M|     223493368|Refun SK98 900 Hi...|           Tools|          5|           23|         24|   N|                N|Excellent small f...|-Seems to be just...| 2015-08-30|\n",
            "|         US|   43989484|R2KOLBXPW57WC3|B00RCYX504|     273166219|TEKTON Socket Set...|           Tools|          1|            4|         38|   N|                N|      Made in Taiwan|I was looking to ...| 2015-08-30|\n",
            "|         US|   33677339|R26EZ2INBETPU2|B00NH3E95Y|     157093972|Rotorazer Multi-p...|           Tools|          1|          103|        128|   N|                N|    Save your money.|I tried to think ...| 2015-08-30|\n",
            "|         US|    2445253|R265ZMDO2ISN1O|B00X52TZYM|     386918330|DEWALT DCS361M1 2...|           Tools|          5|           20|         21|   N|                Y|    Great little saw|I'm very happy wi...| 2015-08-30|\n",
            "|         US|   51156831|R3NZ7JTOCPYE1S|B000WGHZYG|     380976269|10 Pack 4-1/2\" Au...|           Tools|          4|           32|         33|   N|                Y|Better than expec...|Respectable quali...| 2015-08-30|\n",
            "|         US|   50618249|R3HQQ725T45NCH|B00VAQCM0Y|     709322087|Nu Calgon 4050-08...|           Tools|          3|            9|         21|   N|                Y|         Sans Middle|Save yourself the...| 2015-08-29|\n",
            "|         US|   18881762|R15JJ5AGVSB71T|B00S9ZIEEW|     767610957|Ernst Manufacturi...|           Tools|          5|           33|         33|   N|                Y|           Organized|I bought an 87 pi...| 2015-08-29|\n",
            "|         US|   21857034|R28WDBNT2XRACG|B005IGI350|     400241559|POWERTEC PL1251 1...|           Tools|          1|           19|         24|   N|                Y|    Too Cheap for Me|Didn't expect muc...| 2015-08-29|\n",
            "|         US|   34132219|R3HP224QDFQ2SN|B00QS9R9W4|     883778437|Skilled Crafter L...|           Tools|          5|           21|         22|   N|                Y|Amazing Tool, Out...|This leather hole...| 2015-08-29|\n",
            "|         US|   43737304| RTURVI4KNPMG1|B00U0ILXGC|      27558967|Gerber Fixed Blad...|           Tools|          5|          146|        154|   N|                Y|10 out of 10 for ...|Gerber StrongArm....| 2015-08-29|\n",
            "|         US|      78935| RH2BXZ337F38J|B001I9UNWC|     431672706|GRR-RIPPER 3D Pus...|           Tools|          5|           62|         66|   N|                Y|The best push-blo...|With any tool, sa...| 2015-08-29|\n",
            "+-----------+-----------+--------------+----------+--------------+--------------------+----------------+-----------+-------------+-----------+----+-----------------+--------------------+--------------------+-----------+\n",
            "only showing top 20 rows\n",
            "\n"
          ],
          "name": "stdout"
        }
      ]
    },
    {
      "cell_type": "code",
      "metadata": {
        "colab": {
          "base_uri": "https://localhost:8080/"
        },
        "id": "osErmMPinkNO",
        "outputId": "0f6e34c4-01e9-4dcd-90d0-9463fc5c9e1e"
      },
      "source": [
        "#Filter the new DataFrame or table created in Step 1 and create a new DataFrame or table to retrieve all the rows where the number of helpful_votes divided by total_votes is equal to or greater than 50%\n",
        "helpful_df = filtered_df.filter(\"helpful_votes / total_votes > 0.50\")\n",
        "helpful_df.show()"
      ],
      "execution_count": 9,
      "outputs": [
        {
          "output_type": "stream",
          "text": [
            "+-----------+-----------+--------------+----------+--------------+--------------------+----------------+-----------+-------------+-----------+----+-----------------+--------------------+--------------------+-----------+\n",
            "|marketplace|customer_id|     review_id|product_id|product_parent|       product_title|product_category|star_rating|helpful_votes|total_votes|vine|verified_purchase|     review_headline|         review_body|review_date|\n",
            "+-----------+-----------+--------------+----------+--------------+--------------------+----------------+-----------+-------------+-----------+----+-----------------+--------------------+--------------------+-----------+\n",
            "|         US|   47749608| RXAHWIC1584UQ|B00NKSMPZW|     824618679|ClearArmor 141001...|           Tools|          5|           20|         23|   N|                Y|          Five Stars|geart product :) ...| 2015-08-31|\n",
            "|         US|   53082915| RSBELAIC899DO|B00LPFIPPQ|     848632692|WEN 6510 Oscillating|           Tools|          5|           46|         51|   N|                Y|Professional sand...|I don't have a lo...| 2015-08-31|\n",
            "|         US|   37584068|R2HCC4CJ59D225|B00QS9R9W4|     883778437|Skilled Crafter L...|           Tools|          4|           43|         43|   N|                Y|Happy with my pur...|Good hole puncher...| 2015-08-31|\n",
            "|         US|   36879864| RL9VF9WXHEHKR|B00F5VUS1U|     133481526|Big Horn 14350 Do...|           Tools|          5|           35|         36|   N|                Y|        Game changer|If you're looking...| 2015-08-31|\n",
            "|         US|   25655711|R1ZINLWUOLTZ46|B007NVSTCK|     543991951|DEWALT DCS380B 20...|           Tools|          1|           39|         45|   N|                N|     Dont buy dewalt|If I could, I'd g...| 2015-08-31|\n",
            "|         US|   27471798|R1CQKM1K1CHOHS|B000H12DQ6|     206229938|Bosch RA1181 Benc...|           Tools|          1|           21|         22|   N|                N|Who are these idi...|I downloaded the ...| 2015-08-31|\n",
            "|         US|   16581575| R2DHAM7J1KMWN|B00XUF5D7M|     223493368|Refun SK98 900 Hi...|           Tools|          5|           23|         24|   N|                N|Excellent small f...|-Seems to be just...| 2015-08-30|\n",
            "|         US|   33677339|R26EZ2INBETPU2|B00NH3E95Y|     157093972|Rotorazer Multi-p...|           Tools|          1|          103|        128|   N|                N|    Save your money.|I tried to think ...| 2015-08-30|\n",
            "|         US|    2445253|R265ZMDO2ISN1O|B00X52TZYM|     386918330|DEWALT DCS361M1 2...|           Tools|          5|           20|         21|   N|                Y|    Great little saw|I'm very happy wi...| 2015-08-30|\n",
            "|         US|   51156831|R3NZ7JTOCPYE1S|B000WGHZYG|     380976269|10 Pack 4-1/2\" Au...|           Tools|          4|           32|         33|   N|                Y|Better than expec...|Respectable quali...| 2015-08-30|\n",
            "|         US|   18881762|R15JJ5AGVSB71T|B00S9ZIEEW|     767610957|Ernst Manufacturi...|           Tools|          5|           33|         33|   N|                Y|           Organized|I bought an 87 pi...| 2015-08-29|\n",
            "|         US|   21857034|R28WDBNT2XRACG|B005IGI350|     400241559|POWERTEC PL1251 1...|           Tools|          1|           19|         24|   N|                Y|    Too Cheap for Me|Didn't expect muc...| 2015-08-29|\n",
            "|         US|   34132219|R3HP224QDFQ2SN|B00QS9R9W4|     883778437|Skilled Crafter L...|           Tools|          5|           21|         22|   N|                Y|Amazing Tool, Out...|This leather hole...| 2015-08-29|\n",
            "|         US|   43737304| RTURVI4KNPMG1|B00U0ILXGC|      27558967|Gerber Fixed Blad...|           Tools|          5|          146|        154|   N|                Y|10 out of 10 for ...|Gerber StrongArm....| 2015-08-29|\n",
            "|         US|      78935| RH2BXZ337F38J|B001I9UNWC|     431672706|GRR-RIPPER 3D Pus...|           Tools|          5|           62|         66|   N|                Y|The best push-blo...|With any tool, sa...| 2015-08-29|\n",
            "|         US|   47244625|R3G8L2NRMZZHPI|B00ZZGJ852|      61900073|Padlock Picks Doo...|           Tools|          4|           23|         23|   N|                Y|Contains at least...|Generally impress...| 2015-08-29|\n",
            "|         US|   47942565|R21Q3I2ZEDSMZK|B00QZLV03O|     191744402|Nanch Precision S...|           Tools|          5|           80|         84|   N|                Y|Very well designe...|I must admit I wa...| 2015-08-29|\n",
            "|         US|    1518688|R16MXXKY0MRKZW|B00J3GRH9Y|     709251732|SKYRAY 2017 Tacti...|           Tools|          1|           48|         52|   N|                Y|DON'T make my mis...|DON'T make my mis...| 2015-08-29|\n",
            "|         US|   44128413|R121P6RES3Z7WC|B003TU0XG4|     545831295|Dremel 7300-PT 4....|           Tools|          1|          145|        162|   N|                Y|Pieces don't fit ...|So I got this out...| 2015-08-28|\n",
            "|         US|   19691221|R1ILUNGUCRZGF3|B0083R3DHO|     409382267|Azar 326043 12-In...|           Tools|          5|           21|         21|   N|                Y|Great quality pro...|Great quality pro...| 2015-08-28|\n",
            "+-----------+-----------+--------------+----------+--------------+--------------------+----------------+-----------+-------------+-----------+----+-----------------+--------------------+--------------------+-----------+\n",
            "only showing top 20 rows\n",
            "\n"
          ],
          "name": "stdout"
        }
      ]
    },
    {
      "cell_type": "code",
      "metadata": {
        "colab": {
          "base_uri": "https://localhost:8080/"
        },
        "id": "e2akyetHorSe",
        "outputId": "b38d5299-8545-416d-83c1-efe4a99841be"
      },
      "source": [
        "#Filter the DataFrame or table created in Step 2, and create a new DataFrame or table that retrieves all the rows where a review was written as part of the Vine program (paid), vine == 'Y'.\n",
        "paid_df = helpful_df.filter(helpful_df.vine == \"Y\")\n",
        "paid_df.show()\n"
      ],
      "execution_count": 10,
      "outputs": [
        {
          "output_type": "stream",
          "text": [
            "+-----------+-----------+--------------+----------+--------------+--------------------+----------------+-----------+-------------+-----------+----+-----------------+--------------------+--------------------+-----------+\n",
            "|marketplace|customer_id|     review_id|product_id|product_parent|       product_title|product_category|star_rating|helpful_votes|total_votes|vine|verified_purchase|     review_headline|         review_body|review_date|\n",
            "+-----------+-----------+--------------+----------+--------------+--------------------+----------------+-----------+-------------+-----------+----+-----------------+--------------------+--------------------+-----------+\n",
            "|         US|   21084288|R3QIQRG107AP19|B00OJ72LHK|     369815253|BLACK+DECKER BDEJ...|           Tools|          5|           38|         41|   Y|                N|Essential home ow...|We are not pros. ...| 2015-08-27|\n",
            "|         US|   52512530|R1ZNBHGCYE8VN1|B00OJ72LHK|     369815253|BLACK+DECKER BDEJ...|           Tools|          5|          175|        181|   Y|                N|Black and Decker ...|My commercial Ski...| 2015-08-25|\n",
            "|         US|   18255047|R1BNZJ9IKGRBC2|B00OJ72LHK|     369815253|BLACK+DECKER BDEJ...|           Tools|          4|           63|         70|   Y|                N|        A Good Value|I have gotten to ...| 2015-08-19|\n",
            "|         US|   35334320|R2IXTN4PBRHBO2|B00T3QBWAE|     854337170|SOG Survival Hawk...|           Tools|          5|           19|         24|   Y|                N|Absolutely Fantas...|This is an awesom...| 2015-07-20|\n",
            "|         US|   50458463|R32AOW3L09SYMQ|B00T3QBYIO|     614295243|SOG Specialty Kni...|           Tools|          5|           29|         34|   Y|                N|  Perfectly Portable|While not a full-...| 2015-07-18|\n",
            "|         US|   42689422|R34Z4VTLF7PC6X|B00T9RANUC|     724678300|FLIR Compact Ther...|           Tools|          4|           33|         36|   Y|                N|Great FLIR System...|Very easy to use ...| 2015-07-17|\n",
            "|         US|   43791073|R25403NE9JCRZZ|B00TT9X4L0|     175604994|SOG SwitchPlier 2...|           Tools|          2|           36|         40|   Y|                N|I was excited to ...|I carry a pocket ...| 2015-07-15|\n",
            "|         US|   40538153| RDUP15OURNUSA|B00T4N5Y32|     759292408|SOG Specialty Kni...|           Tools|          5|           22|         23|   Y|                N|Great knife for e...|This is my Husban...| 2015-06-24|\n",
            "|         US|   52205658|R1EI4NZTG7G14F|B00TXWJ7KA|     488279439|SOG Throwing Kniv...|           Tools|          5|           17|         23|   Y|                N|Great Gift for Ex...|These throwing kn...| 2015-06-21|\n",
            "|         US|   23094354|R2G0YB0MC67NLG|B00TXWJ7KA|     488279439|SOG Throwing Kniv...|           Tools|          5|           29|         38|   Y|                N|Absolutely Fantas...|Let's start off w...| 2015-06-20|\n",
            "|         US|   51929180| RGA1PHAE93JR2|B00SBGCXFA|     270304375|Bora 542006 WTX S...|           Tools|          1|           16|         21|   Y|                N|Plastic … Flexes ...|When you’re cutti...| 2015-06-13|\n",
            "|         US|   52554722|R3MVW880K2V5BK|B00SBGCXFA|     270304375|Bora 542006 WTX S...|           Tools|          3|           37|         46|   Y|                N|A little less tha...|[[VIDEOID:d21361a...| 2015-06-04|\n",
            "|         US|   30092914|R11JKXPSMHSZY1|B00UHNM60C|     769154216|Gallon 150 PSI Oi...|           Tools|          4|           21|         28|   Y|                N|This is a handy k...|This is a great s...| 2015-05-31|\n",
            "|         US|   53006768|  RSPSTXGY3OD8|B00VJYWRKW|     403339751|TEKTON 28301 Ever...|           Tools|          5|           29|         33|   Y|                N|Good Quality Kit ...|Tech Rescue<br />...| 2015-05-31|\n",
            "|         US|   52554722| RQO0NNMNWRLB4|B00UHNM1TI|     769154216|Gallon 150 PSI Oi...|           Tools|          3|           47|         54|   Y|                N|               RTFM?|[[VIDEOID:c3a0429...| 2015-05-26|\n",
            "|         US|   35360512|R3H5BSP5KCFHBG|B00OKGAURI|     676843495|SKILSAW SPT67WL-0...|           Tools|          4|           19|         21|   Y|                N|Read on to get an...|I am far from bei...| 2015-05-22|\n",
            "|         US|   51771760|R2AIJIWME1WDKN|B00UHNM1R0|     769154216|Gallon 150 PSI Oi...|           Tools|          5|           16|         24|   Y|                N|Great upgrade for...|[[VIDEOID:41c52b1...| 2015-05-16|\n",
            "|         US|   49956844| R585MGH89JZZ5|B00VI7WBWE|     644331624|Bosch GLM 35 Lase...|           Tools|          5|           27|         34|   Y|                N|Love Using the GL...|I recently had so...| 2015-05-10|\n",
            "|         US|   52449685|R2LMZ1WH14S7B9|B00V7UHBAY|     265596260|Delta Power Tools...|           Tools|          4|           20|         28|   Y|                N|Updated to 4 star...|I read some of th...| 2015-05-09|\n",
            "|         US|   14679257|R25IDGC3EN533B|B00VI7WBWE|     644331624|Bosch GLM 35 Lase...|           Tools|          5|           52|         54|   Y|                N|A great upgrade f...|A great upgrade f...| 2015-05-09|\n",
            "+-----------+-----------+--------------+----------+--------------+--------------------+----------------+-----------+-------------+-----------+----+-----------------+--------------------+--------------------+-----------+\n",
            "only showing top 20 rows\n",
            "\n"
          ],
          "name": "stdout"
        }
      ]
    },
    {
      "cell_type": "code",
      "metadata": {
        "colab": {
          "base_uri": "https://localhost:8080/"
        },
        "id": "OcSLu7BypcbS",
        "outputId": "70e7a16e-4906-4e31-e0ef-cfaba49835a9"
      },
      "source": [
        "# Retrieve all the rows where the review was not part of the Vine program (unpaid), vine == 'N'.\n",
        "unpaid_df = helpful_df.filter(helpful_df.vine == \"N\")\n",
        "paid_df.show()"
      ],
      "execution_count": 11,
      "outputs": [
        {
          "output_type": "stream",
          "text": [
            "+-----------+-----------+--------------+----------+--------------+--------------------+----------------+-----------+-------------+-----------+----+-----------------+--------------------+--------------------+-----------+\n",
            "|marketplace|customer_id|     review_id|product_id|product_parent|       product_title|product_category|star_rating|helpful_votes|total_votes|vine|verified_purchase|     review_headline|         review_body|review_date|\n",
            "+-----------+-----------+--------------+----------+--------------+--------------------+----------------+-----------+-------------+-----------+----+-----------------+--------------------+--------------------+-----------+\n",
            "|         US|   21084288|R3QIQRG107AP19|B00OJ72LHK|     369815253|BLACK+DECKER BDEJ...|           Tools|          5|           38|         41|   Y|                N|Essential home ow...|We are not pros. ...| 2015-08-27|\n",
            "|         US|   52512530|R1ZNBHGCYE8VN1|B00OJ72LHK|     369815253|BLACK+DECKER BDEJ...|           Tools|          5|          175|        181|   Y|                N|Black and Decker ...|My commercial Ski...| 2015-08-25|\n",
            "|         US|   18255047|R1BNZJ9IKGRBC2|B00OJ72LHK|     369815253|BLACK+DECKER BDEJ...|           Tools|          4|           63|         70|   Y|                N|        A Good Value|I have gotten to ...| 2015-08-19|\n",
            "|         US|   35334320|R2IXTN4PBRHBO2|B00T3QBWAE|     854337170|SOG Survival Hawk...|           Tools|          5|           19|         24|   Y|                N|Absolutely Fantas...|This is an awesom...| 2015-07-20|\n",
            "|         US|   50458463|R32AOW3L09SYMQ|B00T3QBYIO|     614295243|SOG Specialty Kni...|           Tools|          5|           29|         34|   Y|                N|  Perfectly Portable|While not a full-...| 2015-07-18|\n",
            "|         US|   42689422|R34Z4VTLF7PC6X|B00T9RANUC|     724678300|FLIR Compact Ther...|           Tools|          4|           33|         36|   Y|                N|Great FLIR System...|Very easy to use ...| 2015-07-17|\n",
            "|         US|   43791073|R25403NE9JCRZZ|B00TT9X4L0|     175604994|SOG SwitchPlier 2...|           Tools|          2|           36|         40|   Y|                N|I was excited to ...|I carry a pocket ...| 2015-07-15|\n",
            "|         US|   40538153| RDUP15OURNUSA|B00T4N5Y32|     759292408|SOG Specialty Kni...|           Tools|          5|           22|         23|   Y|                N|Great knife for e...|This is my Husban...| 2015-06-24|\n",
            "|         US|   52205658|R1EI4NZTG7G14F|B00TXWJ7KA|     488279439|SOG Throwing Kniv...|           Tools|          5|           17|         23|   Y|                N|Great Gift for Ex...|These throwing kn...| 2015-06-21|\n",
            "|         US|   23094354|R2G0YB0MC67NLG|B00TXWJ7KA|     488279439|SOG Throwing Kniv...|           Tools|          5|           29|         38|   Y|                N|Absolutely Fantas...|Let's start off w...| 2015-06-20|\n",
            "|         US|   51929180| RGA1PHAE93JR2|B00SBGCXFA|     270304375|Bora 542006 WTX S...|           Tools|          1|           16|         21|   Y|                N|Plastic … Flexes ...|When you’re cutti...| 2015-06-13|\n",
            "|         US|   52554722|R3MVW880K2V5BK|B00SBGCXFA|     270304375|Bora 542006 WTX S...|           Tools|          3|           37|         46|   Y|                N|A little less tha...|[[VIDEOID:d21361a...| 2015-06-04|\n",
            "|         US|   30092914|R11JKXPSMHSZY1|B00UHNM60C|     769154216|Gallon 150 PSI Oi...|           Tools|          4|           21|         28|   Y|                N|This is a handy k...|This is a great s...| 2015-05-31|\n",
            "|         US|   53006768|  RSPSTXGY3OD8|B00VJYWRKW|     403339751|TEKTON 28301 Ever...|           Tools|          5|           29|         33|   Y|                N|Good Quality Kit ...|Tech Rescue<br />...| 2015-05-31|\n",
            "|         US|   52554722| RQO0NNMNWRLB4|B00UHNM1TI|     769154216|Gallon 150 PSI Oi...|           Tools|          3|           47|         54|   Y|                N|               RTFM?|[[VIDEOID:c3a0429...| 2015-05-26|\n",
            "|         US|   35360512|R3H5BSP5KCFHBG|B00OKGAURI|     676843495|SKILSAW SPT67WL-0...|           Tools|          4|           19|         21|   Y|                N|Read on to get an...|I am far from bei...| 2015-05-22|\n",
            "|         US|   51771760|R2AIJIWME1WDKN|B00UHNM1R0|     769154216|Gallon 150 PSI Oi...|           Tools|          5|           16|         24|   Y|                N|Great upgrade for...|[[VIDEOID:41c52b1...| 2015-05-16|\n",
            "|         US|   49956844| R585MGH89JZZ5|B00VI7WBWE|     644331624|Bosch GLM 35 Lase...|           Tools|          5|           27|         34|   Y|                N|Love Using the GL...|I recently had so...| 2015-05-10|\n",
            "|         US|   52449685|R2LMZ1WH14S7B9|B00V7UHBAY|     265596260|Delta Power Tools...|           Tools|          4|           20|         28|   Y|                N|Updated to 4 star...|I read some of th...| 2015-05-09|\n",
            "|         US|   14679257|R25IDGC3EN533B|B00VI7WBWE|     644331624|Bosch GLM 35 Lase...|           Tools|          5|           52|         54|   Y|                N|A great upgrade f...|A great upgrade f...| 2015-05-09|\n",
            "+-----------+-----------+--------------+----------+--------------+--------------------+----------------+-----------+-------------+-----------+----+-----------------+--------------------+--------------------+-----------+\n",
            "only showing top 20 rows\n",
            "\n"
          ],
          "name": "stdout"
        }
      ]
    },
    {
      "cell_type": "code",
      "metadata": {
        "id": "g-1Tx82jpy0L",
        "colab": {
          "base_uri": "https://localhost:8080/"
        },
        "outputId": "a1a8e00a-6c2d-45ca-900f-c6c0e97829e1"
      },
      "source": [
        "#Determine the total number of reviews\n",
        "print(filtered_df.count())\n"
      ],
      "execution_count": 14,
      "outputs": [
        {
          "output_type": "stream",
          "text": [
            "32975\n"
          ],
          "name": "stdout"
        }
      ]
    },
    {
      "cell_type": "code",
      "metadata": {
        "colab": {
          "base_uri": "https://localhost:8080/"
        },
        "id": "TxgQFAMPgLo3",
        "outputId": "44019093-5b97-4906-e6f0-f351a7e7f6aa"
      },
      "source": [
        " # Determine the number of 5-star reviews \n",
        "\n",
        " five_stars = filtered_df.filter(filtered_df.star_rating == 5)\n",
        "print(five_stars.count())"
      ],
      "execution_count": 16,
      "outputs": [
        {
          "output_type": "stream",
          "text": [
            "14141\n"
          ],
          "name": "stdout"
        }
      ]
    },
    {
      "cell_type": "code",
      "metadata": {
        "colab": {
          "base_uri": "https://localhost:8080/"
        },
        "id": "JCrpdi1Vhaur",
        "outputId": "9e7c626b-502d-4b0c-841b-d1ef06bea304"
      },
      "source": [
        "# Determine the number of 'helpful' 5-star reviews\n",
        "helpful_five_stars = helpful_df.filter(helpful_df.star_rating == 5)\n",
        "print(five_stars.count())"
      ],
      "execution_count": 38,
      "outputs": [
        {
          "output_type": "stream",
          "text": [
            "13817\n"
          ],
          "name": "stdout"
        }
      ]
    },
    {
      "cell_type": "code",
      "metadata": {
        "colab": {
          "base_uri": "https://localhost:8080/"
        },
        "id": "Y7ZZUzoeg50w",
        "outputId": "d830417a-835e-4ff8-b47e-f689c68c018f"
      },
      "source": [
        "#the percentage of 5-star reviews for the two types of review (paid vs unpaid).\n",
        "paid_five_stars = paid_df.filter(paid_df.star_rating == 5).count()\n",
        "print(paid_five_stars)"
      ],
      "execution_count": 29,
      "outputs": [
        {
          "output_type": "stream",
          "text": [
            "149\n"
          ],
          "name": "stdout"
        }
      ]
    },
    {
      "cell_type": "code",
      "metadata": {
        "colab": {
          "base_uri": "https://localhost:8080/"
        },
        "id": "S-IOkuzcim9B",
        "outputId": "640b0c6c-db70-4810-9bd2-7335b4aaf3f1"
      },
      "source": [
        "print(unpaid_five_stars/13817)"
      ],
      "execution_count": 26,
      "outputs": [
        {
          "output_type": "stream",
          "text": [
            "0.010783817036983426\n"
          ],
          "name": "stdout"
        }
      ]
    },
    {
      "cell_type": "code",
      "metadata": {
        "colab": {
          "base_uri": "https://localhost:8080/"
        },
        "id": "LpXiRC5ojZCZ",
        "outputId": "75b4120b-984d-492e-e869-17b5b39f4178"
      },
      "source": [
        "unpaid_five_stars = unpaid_df.filter(unpaid_df.star_rating == 5).count()\n",
        "print(unpaid_five_stars)\n"
      ],
      "execution_count": 30,
      "outputs": [
        {
          "output_type": "stream",
          "text": [
            "13668\n"
          ],
          "name": "stdout"
        }
      ]
    },
    {
      "cell_type": "code",
      "metadata": {
        "id": "aBRE5Nvqj85Z"
      },
      "source": [
        " # Determine the number of helpful paid reviews \n",
        "num_paid_reviews = helpful_five_stars.filter(helpful_five_stars.vine == \"Y\")"
      ],
      "execution_count": 39,
      "outputs": []
    },
    {
      "cell_type": "code",
      "metadata": {
        "colab": {
          "base_uri": "https://localhost:8080/"
        },
        "id": "a2-x8xb8kZYt",
        "outputId": "a3f65fb9-570f-48e4-bade-31a813085548"
      },
      "source": [
        "print(num_paid_reviews.count())"
      ],
      "execution_count": 32,
      "outputs": [
        {
          "output_type": "stream",
          "text": [
            "268\n"
          ],
          "name": "stdout"
        }
      ]
    },
    {
      "cell_type": "code",
      "metadata": {
        "id": "AHz8WKx9khVX"
      },
      "source": [
        " # Determine the number of helpful unpaid reviews \n",
        "num_unpaid_reviews = helpful_df.filter(helpful_df.vine == \"N\")"
      ],
      "execution_count": 36,
      "outputs": []
    },
    {
      "cell_type": "code",
      "metadata": {
        "colab": {
          "base_uri": "https://localhost:8080/"
        },
        "id": "Ja00oS01kpVS",
        "outputId": "ceb1f136-eb3f-40c7-9d1e-dd4696d93b1e"
      },
      "source": [
        "print(num_unpaid_reviews.count())"
      ],
      "execution_count": 37,
      "outputs": [
        {
          "output_type": "stream",
          "text": [
            "29452\n"
          ],
          "name": "stdout"
        }
      ]
    },
    {
      "cell_type": "code",
      "metadata": {
        "colab": {
          "base_uri": "https://localhost:8080/"
        },
        "id": "oMAjnG6wnc-A",
        "outputId": "2f3d0286-b5c1-4f00-9e91-a0816afc424f"
      },
      "source": [
        "#Determine the number of helpful reviews\n",
        "print(helpful_df.count())"
      ],
      "execution_count": 40,
      "outputs": [
        {
          "output_type": "stream",
          "text": [
            "29720\n"
          ],
          "name": "stdout"
        }
      ]
    },
    {
      "cell_type": "markdown",
      "metadata": {
        "id": "wmb2DHzknVq2"
      },
      "source": [
        ""
      ]
    }
  ]
}